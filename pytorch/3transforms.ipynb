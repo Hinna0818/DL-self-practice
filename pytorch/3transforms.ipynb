{
  "nbformat": 4,
  "nbformat_minor": 0,
  "metadata": {
    "colab": {
      "provenance": [],
      "authorship_tag": "ABX9TyPPt9AkR+mnkjiJDQeeCkE7",
      "include_colab_link": true
    },
    "kernelspec": {
      "name": "python3",
      "display_name": "Python 3"
    },
    "language_info": {
      "name": "python"
    }
  },
  "cells": [
    {
      "cell_type": "markdown",
      "metadata": {
        "id": "view-in-github",
        "colab_type": "text"
      },
      "source": [
        "<a href=\"https://colab.research.google.com/github/Hinna0818/DL-self-practice/blob/main/pytorch/3transforms.ipynb\" target=\"_parent\"><img src=\"https://colab.research.google.com/assets/colab-badge.svg\" alt=\"Open In Colab\"/></a>"
      ]
    },
    {
      "cell_type": "markdown",
      "source": [
        "## 数据处理\n",
        "### 训练数据前，要对数据进行处理（标准化；分类；连续）"
      ],
      "metadata": {
        "id": "spcntWsCsERw"
      }
    },
    {
      "cell_type": "code",
      "execution_count": 1,
      "metadata": {
        "colab": {
          "base_uri": "https://localhost:8080/"
        },
        "id": "SOry4Nw1r6Bi",
        "outputId": "65c0892b-3c3f-40af-b707-e0c9445d69fe"
      },
      "outputs": [
        {
          "output_type": "stream",
          "name": "stderr",
          "text": [
            "100%|██████████| 26.4M/26.4M [00:03<00:00, 8.63MB/s]\n",
            "100%|██████████| 29.5k/29.5k [00:00<00:00, 139kB/s]\n",
            "100%|██████████| 4.42M/4.42M [00:01<00:00, 2.53MB/s]\n",
            "100%|██████████| 5.15k/5.15k [00:00<00:00, 8.87MB/s]\n"
          ]
        }
      ],
      "source": [
        "## load data from mnist\n",
        "import torch\n",
        "from torchvision import datasets\n",
        "from torchvision.transforms import ToTensor, Lambda\n",
        "\n",
        "ds = datasets.FashionMNIST(\n",
        "    root=\"data\",\n",
        "    train=True,\n",
        "    download=True,\n",
        "    transform=ToTensor(), ## 将图片转为张量\n",
        "    target_transform=Lambda(lambda y: torch.zeros(10, dtype=torch.float).scatter_(0, torch.tensor(y), value=1)) ## label使用one hot encoder\n",
        ")"
      ]
    }
  ]
}