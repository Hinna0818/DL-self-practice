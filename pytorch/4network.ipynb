{
  "nbformat": 4,
  "nbformat_minor": 0,
  "metadata": {
    "colab": {
      "provenance": [],
      "gpuType": "T4",
      "authorship_tag": "ABX9TyNIdFZv39PnxSNg6f1R84KX",
      "include_colab_link": true
    },
    "kernelspec": {
      "name": "python3",
      "display_name": "Python 3"
    },
    "language_info": {
      "name": "python"
    },
    "accelerator": "GPU"
  },
  "cells": [
    {
      "cell_type": "markdown",
      "metadata": {
        "id": "view-in-github",
        "colab_type": "text"
      },
      "source": [
        "<a href=\"https://colab.research.google.com/github/Hinna0818/DL-self-practice/blob/main/pytorch/4network.ipynb\" target=\"_parent\"><img src=\"https://colab.research.google.com/assets/colab-badge.svg\" alt=\"Open In Colab\"/></a>"
      ]
    },
    {
      "cell_type": "code",
      "execution_count": 1,
      "metadata": {
        "id": "M6rBQ8PfWfYo"
      },
      "outputs": [],
      "source": [
        "import os\n",
        "import torch\n",
        "from torch import nn\n",
        "from torch.utils.data import DataLoader\n",
        "from torchvision import datasets, transforms"
      ]
    },
    {
      "cell_type": "code",
      "source": [
        "## 有gpu就用，没有就用cpu\n",
        "device = torch.accelerator.current_accelerator().type if torch.accelerator.is_available() else \"cpu\"\n",
        "print(f\"Using {device} device\")"
      ],
      "metadata": {
        "colab": {
          "base_uri": "https://localhost:8080/"
        },
        "id": "Ra8YyZacW-Zo",
        "outputId": "7ba56960-de22-41b6-a060-ecf181009650"
      },
      "execution_count": 2,
      "outputs": [
        {
          "output_type": "stream",
          "name": "stdout",
          "text": [
            "Using cuda device\n"
          ]
        }
      ]
    },
    {
      "cell_type": "code",
      "source": [
        "## 定义网络类\n",
        "class NeuralNetwork(nn.Module):\n",
        "    def __init__(self):\n",
        "        super().__init__() ## nnmodule是父类，继承父类的初始化方法\n",
        "        self.flatten = nn.Flatten() ## 将[batch, c, w, h]展成[batch, c*w*h]\n",
        "        self.linear_relu_stack = nn.Sequential(\n",
        "            nn.Linear(28*28, 512),\n",
        "            nn.ReLU(),\n",
        "            nn.Linear(512, 512),\n",
        "            nn.ReLU(),\n",
        "            nn.Linear(512, 10),\n",
        "        )\n",
        "\n",
        "    def forward(self, x):\n",
        "        x = self.flatten(x)\n",
        "        logits = self.linear_relu_stack(x)\n",
        "        return logits"
      ],
      "metadata": {
        "id": "q4NY8TolXK-l"
      },
      "execution_count": 3,
      "outputs": []
    },
    {
      "cell_type": "code",
      "source": [
        "## 把network放到gpu里\n",
        "model = NeuralNetwork().to(device)\n",
        "print(model)"
      ],
      "metadata": {
        "colab": {
          "base_uri": "https://localhost:8080/"
        },
        "id": "7U8D9ghahprE",
        "outputId": "4654f843-fc08-4cbe-85bf-bd24ae3a7b7c"
      },
      "execution_count": 4,
      "outputs": [
        {
          "output_type": "stream",
          "name": "stdout",
          "text": [
            "NeuralNetwork(\n",
            "  (flatten): Flatten(start_dim=1, end_dim=-1)\n",
            "  (linear_relu_stack): Sequential(\n",
            "    (0): Linear(in_features=784, out_features=512, bias=True)\n",
            "    (1): ReLU()\n",
            "    (2): Linear(in_features=512, out_features=512, bias=True)\n",
            "    (3): ReLU()\n",
            "    (4): Linear(in_features=512, out_features=10, bias=True)\n",
            "  )\n",
            ")\n"
          ]
        }
      ]
    },
    {
      "cell_type": "code",
      "source": [
        "X = torch.rand(1, 28, 28, device=device)\n",
        "logits = model(X)  ## 不用model.forward(X)\n",
        "pred_probab = nn.Softmax(dim=1)(logits)\n",
        "y_pred = pred_probab.argmax(1)  ## 取最大的为输出\n",
        "print(f\"Predicted class: {y_pred}\")"
      ],
      "metadata": {
        "colab": {
          "base_uri": "https://localhost:8080/"
        },
        "id": "CIQi-DFTkQ4O",
        "outputId": "6335d387-327f-4b00-e3e0-574717988a06"
      },
      "execution_count": 5,
      "outputs": [
        {
          "output_type": "stream",
          "name": "stdout",
          "text": [
            "Predicted class: tensor([6], device='cuda:0')\n"
          ]
        }
      ]
    },
    {
      "cell_type": "code",
      "source": [
        "## model layer\n",
        "input_image = torch.rand(3, 28, 28)\n",
        "print(f\"input_image size: {input_image.size()}\") # 第一个维度是batch"
      ],
      "metadata": {
        "colab": {
          "base_uri": "https://localhost:8080/"
        },
        "id": "AL1F6y7klJZD",
        "outputId": "35194f80-255c-42db-80ab-2cc39606b4d0"
      },
      "execution_count": 6,
      "outputs": [
        {
          "output_type": "stream",
          "name": "stdout",
          "text": [
            "input_image size: torch.Size([3, 28, 28])\n"
          ]
        }
      ]
    },
    {
      "cell_type": "code",
      "source": [
        "## nn.Flatten()展开\n",
        "flatten = nn.Flatten()\n",
        "image = flatten(input_image)\n",
        "print(image.size()) ## dim=0保留作为第一个维度，后面所有维度乘积作为第二个维度"
      ],
      "metadata": {
        "colab": {
          "base_uri": "https://localhost:8080/"
        },
        "id": "sGxvKUFNDLPS",
        "outputId": "22fa2a83-1224-4b1e-d38c-3cb7202ad790"
      },
      "execution_count": 7,
      "outputs": [
        {
          "output_type": "stream",
          "name": "stdout",
          "text": [
            "torch.Size([3, 784])\n"
          ]
        }
      ]
    },
    {
      "cell_type": "code",
      "source": [
        "## nn.Linear()全连接层构建隐藏层\n",
        "linear = nn.Linear(in_features = 28*28, out_features = 20) ## 指定输入维度为28*28， 输出20个features\n",
        "hidden1 = linear(image)\n",
        "print(f\"hidden1 size: {hidden1.size()}\")"
      ],
      "metadata": {
        "colab": {
          "base_uri": "https://localhost:8080/"
        },
        "id": "h4VpCF1WD1HD",
        "outputId": "5d40ba83-eac4-4f5d-b1a7-c14ba340c5ca"
      },
      "execution_count": 10,
      "outputs": [
        {
          "output_type": "stream",
          "name": "stdout",
          "text": [
            "hidden1 size: torch.Size([3, 20])\n"
          ]
        }
      ]
    },
    {
      "cell_type": "code",
      "source": [
        "## nn.ReLU()激活函数构建非线性\n",
        "print(f\"before relu: {hidden1}\\n\\n\")\n",
        "relu = nn.ReLU()\n",
        "hidden1 = relu(hidden1)\n",
        "print(f\"after relu: {hidden1}\\n\\n\")"
      ],
      "metadata": {
        "colab": {
          "base_uri": "https://localhost:8080/"
        },
        "id": "5wbVMK4_Er-z",
        "outputId": "d61ce36f-ad93-4fd8-a924-9e8dd5ac13ac"
      },
      "execution_count": 11,
      "outputs": [
        {
          "output_type": "stream",
          "name": "stdout",
          "text": [
            "before relu: tensor([[-0.4138, -0.5380,  1.1898,  0.1957,  0.1699, -0.2012,  0.3226,  0.4311,\n",
            "          0.0631,  0.1130,  0.3585,  0.3221, -0.0993,  0.2195,  0.1471,  0.5285,\n",
            "          0.0434, -0.0572, -0.3245, -0.0780],\n",
            "        [-0.1979, -0.1831,  1.0424,  0.1839,  0.3930, -0.4737,  0.1668,  0.2714,\n",
            "         -0.0869,  0.3771,  0.1842,  0.3056, -0.1572,  0.4169,  0.1235,  0.3015,\n",
            "         -0.1508, -0.1648, -0.0668,  0.2566],\n",
            "        [-0.4163, -0.5757,  0.8150,  0.1344,  0.0659, -0.1451, -0.0881,  0.2826,\n",
            "         -0.0071,  0.4506,  0.2347,  0.4475, -0.3098,  0.2240, -0.2321,  0.6294,\n",
            "         -0.1053,  0.2307, -0.2095,  0.1370]], grad_fn=<AddmmBackward0>)\n",
            "\n",
            "\n",
            "after relu: tensor([[0.0000, 0.0000, 1.1898, 0.1957, 0.1699, 0.0000, 0.3226, 0.4311, 0.0631,\n",
            "         0.1130, 0.3585, 0.3221, 0.0000, 0.2195, 0.1471, 0.5285, 0.0434, 0.0000,\n",
            "         0.0000, 0.0000],\n",
            "        [0.0000, 0.0000, 1.0424, 0.1839, 0.3930, 0.0000, 0.1668, 0.2714, 0.0000,\n",
            "         0.3771, 0.1842, 0.3056, 0.0000, 0.4169, 0.1235, 0.3015, 0.0000, 0.0000,\n",
            "         0.0000, 0.2566],\n",
            "        [0.0000, 0.0000, 0.8150, 0.1344, 0.0659, 0.0000, 0.0000, 0.2826, 0.0000,\n",
            "         0.4506, 0.2347, 0.4475, 0.0000, 0.2240, 0.0000, 0.6294, 0.0000, 0.2307,\n",
            "         0.0000, 0.1370]], grad_fn=<ReluBackward0>)\n",
            "\n",
            "\n"
          ]
        }
      ]
    },
    {
      "cell_type": "code",
      "source": [
        "## nn.Sequential()构建一个连续的模型架构，相当于一个pipeline运行\n",
        "seq_modules = nn.Sequential(\n",
        "    flatten,\n",
        "    linear,\n",
        "    relu,\n",
        "    nn.Linear(20, 10)\n",
        ")\n",
        "\n",
        "input_image = torch.rand(3, 28, 28)\n",
        "logits = seq_modules(input_image)\n",
        "print(logits)"
      ],
      "metadata": {
        "colab": {
          "base_uri": "https://localhost:8080/"
        },
        "id": "gmQJWxIcFN6T",
        "outputId": "43f2ecae-a844-4ee4-c1d7-6bfcc87ea753"
      },
      "execution_count": 12,
      "outputs": [
        {
          "output_type": "stream",
          "name": "stdout",
          "text": [
            "tensor([[ 0.1329,  0.1441, -0.3184, -0.1736, -0.2150,  0.3128,  0.2132,  0.1192,\n",
            "         -0.1181, -0.2449],\n",
            "        [-0.0264,  0.2032, -0.4234, -0.2051, -0.1237,  0.3393,  0.1939,  0.1003,\n",
            "         -0.2335, -0.1114],\n",
            "        [ 0.0825,  0.0765, -0.3862, -0.1108, -0.3165,  0.1846,  0.1305,  0.1374,\n",
            "         -0.1476, -0.2311]], grad_fn=<AddmmBackward0>)\n"
          ]
        }
      ]
    },
    {
      "cell_type": "code",
      "source": [
        "## nn.Softmax()将最后一层线性层返回的结果转化为[0,1]的输出概率\n",
        "softmax = nn.Softmax(dim = 1) ## 对每一行（样本）进行处理\n",
        "pred_prob = softmax(logits)\n",
        "print(pred_prob). ## 每一行加起来为1"
      ],
      "metadata": {
        "colab": {
          "base_uri": "https://localhost:8080/"
        },
        "id": "aMx_3EL_GGXO",
        "outputId": "a021fb43-010e-48e6-c9b6-69d12720ce34"
      },
      "execution_count": 13,
      "outputs": [
        {
          "output_type": "stream",
          "name": "stdout",
          "text": [
            "tensor([[0.1134, 0.1146, 0.0722, 0.0834, 0.0801, 0.1357, 0.1229, 0.1118, 0.0882,\n",
            "         0.0777],\n",
            "        [0.0978, 0.1230, 0.0657, 0.0818, 0.0887, 0.1409, 0.1219, 0.1110, 0.0795,\n",
            "         0.0898],\n",
            "        [0.1129, 0.1123, 0.0707, 0.0931, 0.0758, 0.1251, 0.1185, 0.1193, 0.0897,\n",
            "         0.0825]], grad_fn=<SoftmaxBackward0>)\n"
          ]
        }
      ]
    },
    {
      "cell_type": "code",
      "source": [
        "## 模型参数\n",
        "print(f\"Model structure: {model}\\n\\n\")\n",
        "\n",
        "## model.named_parameters()：返回一个 (name, parameter) 的元组迭代器，方便你知道哪个参数属于哪一层\n",
        "for name, param in model.named_parameters():\n",
        "    print(f\"Layer: {name} | Size: {param.size()} | Values : {param[:2]} \\n\")"
      ],
      "metadata": {
        "colab": {
          "base_uri": "https://localhost:8080/"
        },
        "id": "WUC9Ii_qGexm",
        "outputId": "50b23153-cb77-454c-90d5-e3375e1e94e7"
      },
      "execution_count": 14,
      "outputs": [
        {
          "output_type": "stream",
          "name": "stdout",
          "text": [
            "Model structure: NeuralNetwork(\n",
            "  (flatten): Flatten(start_dim=1, end_dim=-1)\n",
            "  (linear_relu_stack): Sequential(\n",
            "    (0): Linear(in_features=784, out_features=512, bias=True)\n",
            "    (1): ReLU()\n",
            "    (2): Linear(in_features=512, out_features=512, bias=True)\n",
            "    (3): ReLU()\n",
            "    (4): Linear(in_features=512, out_features=10, bias=True)\n",
            "  )\n",
            ")\n",
            "\n",
            "\n",
            "Layer: linear_relu_stack.0.weight | Size: torch.Size([512, 784]) | Values : tensor([[-0.0023, -0.0231,  0.0221,  ...,  0.0132, -0.0187,  0.0063],\n",
            "        [ 0.0221,  0.0102,  0.0106,  ...,  0.0179,  0.0190, -0.0306]],\n",
            "       device='cuda:0', grad_fn=<SliceBackward0>) \n",
            "\n",
            "Layer: linear_relu_stack.0.bias | Size: torch.Size([512]) | Values : tensor([-0.0102,  0.0296], device='cuda:0', grad_fn=<SliceBackward0>) \n",
            "\n",
            "Layer: linear_relu_stack.2.weight | Size: torch.Size([512, 512]) | Values : tensor([[-0.0413,  0.0143,  0.0046,  ...,  0.0031, -0.0321,  0.0231],\n",
            "        [ 0.0312, -0.0384, -0.0069,  ...,  0.0325,  0.0379, -0.0319]],\n",
            "       device='cuda:0', grad_fn=<SliceBackward0>) \n",
            "\n",
            "Layer: linear_relu_stack.2.bias | Size: torch.Size([512]) | Values : tensor([0.0163, 0.0059], device='cuda:0', grad_fn=<SliceBackward0>) \n",
            "\n",
            "Layer: linear_relu_stack.4.weight | Size: torch.Size([10, 512]) | Values : tensor([[ 0.0328,  0.0288,  0.0169,  ...,  0.0113,  0.0408, -0.0390],\n",
            "        [-0.0129, -0.0237, -0.0060,  ...,  0.0307,  0.0340, -0.0036]],\n",
            "       device='cuda:0', grad_fn=<SliceBackward0>) \n",
            "\n",
            "Layer: linear_relu_stack.4.bias | Size: torch.Size([10]) | Values : tensor([-0.0334, -0.0051], device='cuda:0', grad_fn=<SliceBackward0>) \n",
            "\n"
          ]
        }
      ]
    }
  ]
}