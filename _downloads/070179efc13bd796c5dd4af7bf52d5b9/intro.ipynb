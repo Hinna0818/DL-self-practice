{
  "cells": [
    {
      "cell_type": "code",
      "execution_count": 2,
      "metadata": {
        "colab": {
          "base_uri": "https://localhost:8080/"
        },
        "id": "9i8g9sgVu-9L",
        "outputId": "bce336f7-244b-48a0-aec6-ef92f1aacf57"
      },
      "outputs": [
        {
          "output_type": "stream",
          "name": "stdout",
          "text": [
            "tensor([[1, 2],\n",
            "        [3, 4]])\n"
          ]
        }
      ],
      "source": [
        "## create tensor data\n",
        "import numpy as np\n",
        "import torch\n",
        "x = [[1,2], [3,4]]\n",
        "data = torch.tensor(x)\n",
        "print(data)"
      ]
    },
    {
      "cell_type": "code",
      "source": [
        "## convert into ndarray\n",
        "x_np = np.array(x)\n",
        "x_tensor = torch.from_numpy(x_np)\n",
        "print(x_tensor)"
      ],
      "metadata": {
        "id": "iPNEWcZTynNg",
        "outputId": "69230952-0284-46bd-f0ad-33a11bae02ce",
        "colab": {
          "base_uri": "https://localhost:8080/"
        }
      },
      "execution_count": 3,
      "outputs": [
        {
          "output_type": "stream",
          "name": "stdout",
          "text": [
            "tensor([[1, 2],\n",
            "        [3, 4]])\n"
          ]
        }
      ]
    },
    {
      "cell_type": "code",
      "source": [
        "## from another tensor\n",
        "x_ones = torch.ones_like(x_tensor)\n",
        "x_rand = torch.rand_like(x_tensor, dtype=torch.float)\n",
        "\n",
        "print(x_ones)\n",
        "print(x_rand)"
      ],
      "metadata": {
        "colab": {
          "base_uri": "https://localhost:8080/"
        },
        "id": "6havyMHAvvoV",
        "outputId": "d699e87d-a35e-46a5-c816-17415b7050e9"
      },
      "execution_count": 5,
      "outputs": [
        {
          "output_type": "stream",
          "name": "stdout",
          "text": [
            "tensor([[1, 1],\n",
            "        [1, 1]])\n",
            "tensor([[0.9270, 0.6752],\n",
            "        [0.9702, 0.2794]])\n"
          ]
        }
      ]
    },
    {
      "cell_type": "code",
      "source": [
        "## with random or constant values\n",
        "shape = (2,3,)\n",
        "rand_tensor = torch.rand(shape)\n",
        "zero_tensor = torch.zeros(shape)\n",
        "ones_tensor = torch.ones(shape)\n",
        "\n",
        "print(rand_tensor)\n",
        "print(zero_tensor)\n",
        "print(ones_tensor)"
      ],
      "metadata": {
        "id": "XyRjZWf46VMf",
        "outputId": "27a70e7e-128f-48db-c444-75bff5a722f5",
        "colab": {
          "base_uri": "https://localhost:8080/"
        }
      },
      "execution_count": 6,
      "outputs": [
        {
          "output_type": "stream",
          "name": "stdout",
          "text": [
            "tensor([[0.4187, 0.3635, 0.9739],\n",
            "        [0.5836, 0.4680, 0.6021]])\n",
            "tensor([[0., 0., 0.],\n",
            "        [0., 0., 0.]])\n",
            "tensor([[1., 1., 1.],\n",
            "        [1., 1., 1.]])\n"
          ]
        }
      ]
    }
  ],
  "metadata": {
    "kernelspec": {
      "display_name": "Python 3",
      "language": "python",
      "name": "python3"
    },
    "language_info": {
      "codemirror_mode": {
        "name": "ipython",
        "version": 3
      },
      "file_extension": ".py",
      "mimetype": "text/x-python",
      "name": "python",
      "nbconvert_exporter": "python",
      "pygments_lexer": "ipython3",
      "version": "3.10.12"
    },
    "colab": {
      "provenance": []
    }
  },
  "nbformat": 4,
  "nbformat_minor": 0
}