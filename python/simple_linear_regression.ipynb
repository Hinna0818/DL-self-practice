{
 "cells": [
  {
   "cell_type": "markdown",
   "metadata": {},
   "source": [
    "1. 简单线性回归示例"
   ]
  },
  {
   "cell_type": "markdown",
   "metadata": {},
   "source": [
    "1. 导入库"
   ]
  },
  {
   "cell_type": "code",
   "execution_count": 1,
   "metadata": {},
   "outputs": [],
   "source": [
    "import numpy as np\n",
    "import torch\n",
    "from torch.utils import data\n",
    "from d2l import torch as d2l"
   ]
  },
  {
   "cell_type": "markdown",
   "metadata": {},
   "source": [
    "2. 生成数据集"
   ]
  },
  {
   "cell_type": "code",
   "execution_count": null,
   "metadata": {},
   "outputs": [],
   "source": [
    "true_w = torch.tensor([2, -3.4])\n",
    "true_b = 4.2\n",
    "features, labels = d2l.synthetic_data(true_w, true_b, 1000)"
   ]
  },
  {
   "cell_type": "markdown",
   "metadata": {},
   "source": [
    "3. 读取数据集"
   ]
  },
  {
   "cell_type": "code",
   "execution_count": null,
   "metadata": {},
   "outputs": [
    {
     "data": {
      "text/plain": [
       "[tensor([[-0.5844, -0.0526],\n",
       "         [-1.0501, -1.0408],\n",
       "         [-2.5948, -0.7348],\n",
       "         [ 1.3322, -0.6363],\n",
       "         [ 0.5904,  0.1136],\n",
       "         [ 0.9053, -1.0497],\n",
       "         [-0.2112, -0.7498],\n",
       "         [-0.1890, -1.2082],\n",
       "         [-1.3734,  0.4653],\n",
       "         [ 1.3243, -0.4418]]),\n",
       " tensor([[ 3.2037],\n",
       "         [ 5.6269],\n",
       "         [ 1.5002],\n",
       "         [ 9.0308],\n",
       "         [ 4.9881],\n",
       "         [ 9.5867],\n",
       "         [ 6.3261],\n",
       "         [ 7.9383],\n",
       "         [-0.1250],\n",
       "         [ 8.3471]])]"
      ]
     },
     "execution_count": 3,
     "metadata": {},
     "output_type": "execute_result"
    }
   ],
   "source": [
    "## 构建一个数据迭代器\n",
    "def load_array(data_arrays, batch_size, is_train = True):\n",
    "    dataset = data.TensorDataset(*data_arrays)\n",
    "    return data.DataLoader(dataset, batch_size, shuffle = is_train)\n",
    "\n",
    "## 设置每个batch的大小为10个样本，然后选择打乱数据\n",
    "batch_size = 10\n",
    "data_iter = load_array((features, labels), batch_size)\n",
    "next(iter(data_iter))"
   ]
  },
  {
   "cell_type": "markdown",
   "metadata": {},
   "source": [
    "4. 定义模型"
   ]
  },
  {
   "cell_type": "code",
   "execution_count": null,
   "metadata": {},
   "outputs": [],
   "source": [
    "from torch import nn\n",
    "net = nn.Sequential(nn.Linear(2,1))  ## 输入特征数为2，输出标签为1"
   ]
  },
  {
   "cell_type": "markdown",
   "metadata": {},
   "source": [
    "torch.nn.Sequential是PyTorch中一个模块容器（Module Container），用于按顺序堆叠多个神经网络层，简化模型定义的过程。\n",
    "Sequential 让我们可以不用单独定义 forward() 方法，按顺序执行层操作。\n",
    "适用于线性堆叠的网络结构（如 CNN、MLP）。\n",
    "单层网络架构称为全连接层，在Linear类中定义"
   ]
  },
  {
   "cell_type": "markdown",
   "metadata": {},
   "source": [
    "5. 初始化模型参数(w, b)"
   ]
  },
  {
   "cell_type": "code",
   "execution_count": 5,
   "metadata": {},
   "outputs": [
    {
     "data": {
      "text/plain": [
       "tensor([0.])"
      ]
     },
     "execution_count": 5,
     "metadata": {},
     "output_type": "execute_result"
    }
   ],
   "source": [
    "net[0].weight.data.normal_(0, 0.01)\n",
    "net[0].bias.data.fill_(0)"
   ]
  },
  {
   "cell_type": "markdown",
   "metadata": {},
   "source": [
    "这里对第一层net的参数weight和bias进行初始化。通过weight.data和bias.data访问参数，通过nomal_和fill_方法替换参数。"
   ]
  },
  {
   "cell_type": "markdown",
   "metadata": {},
   "source": [
    "6. 定义损失函数"
   ]
  },
  {
   "cell_type": "code",
   "execution_count": 6,
   "metadata": {},
   "outputs": [],
   "source": [
    "## 均方误差（平方L2范数）计算，返回所有样本损失的平均值\n",
    "loss = nn.MSELoss()"
   ]
  },
  {
   "cell_type": "markdown",
   "metadata": {},
   "source": [
    "7. 定义优化算法"
   ]
  },
  {
   "cell_type": "code",
   "execution_count": 7,
   "metadata": {},
   "outputs": [],
   "source": [
    "trainer = torch.optim.SGD(net.parameters(), lr = 0.03)"
   ]
  },
  {
   "cell_type": "markdown",
   "metadata": {},
   "source": [
    "这行代码的作用是创建一个随机梯度下降（Stochastic Gradient Descent, SGD）优化器，用于更新 net（神经网络）模型的参数。\n",
    "net.parameters()返回模型中所有的参数(w, b)，lr是learning rate。"
   ]
  },
  {
   "cell_type": "markdown",
   "metadata": {},
   "source": [
    "8. 训练模型"
   ]
  },
  {
   "cell_type": "code",
   "execution_count": null,
   "metadata": {},
   "outputs": [
    {
     "name": "stdout",
     "output_type": "stream",
     "text": [
      "epoch 1, loss 0.000193\n",
      "epoch 2, loss 0.000103\n",
      "epoch 3, loss 0.000104\n"
     ]
    }
   ],
   "source": [
    "num_epochs = 3 ## 设置对数据集进行三轮的训练，每一轮遍历整个数据集\n",
    "for epoch in range(num_epochs):\n",
    "    for X, y in data_iter:\n",
    "        l = loss(net(X), y) ## 计算损失\n",
    "        trainer.zero_grad() ## 清空上一个epoch的梯度\n",
    "        l.backward() ## 反向传播计算梯度\n",
    "        trainer.step() ## 更新参数\n",
    "    l = loss(net(features), labels) ## 计算整个数据集的损失\n",
    "    print(f'epoch {epoch + 1}, loss {l:f}')"
   ]
  },
  {
   "cell_type": "code",
   "execution_count": 18,
   "metadata": {},
   "outputs": [
    {
     "name": "stdout",
     "output_type": "stream",
     "text": [
      "weight gradient: tensor([[-0.0005,  0.0041]])\n",
      "bias gradient: tensor([0.0019])\n"
     ]
    }
   ],
   "source": [
    "## 访问参数的梯度\n",
    "print(\"weight gradient:\", net[0].weight.grad)\n",
    "print(\"bias gradient:\", net[0].bias.grad)"
   ]
  }
 ],
 "metadata": {
  "kernelspec": {
   "display_name": "Python 3",
   "language": "python",
   "name": "python3"
  },
  "language_info": {
   "codemirror_mode": {
    "name": "ipython",
    "version": 3
   },
   "file_extension": ".py",
   "mimetype": "text/x-python",
   "name": "python",
   "nbconvert_exporter": "python",
   "pygments_lexer": "ipython3",
   "version": "3.9.21"
  }
 },
 "nbformat": 4,
 "nbformat_minor": 2
}
