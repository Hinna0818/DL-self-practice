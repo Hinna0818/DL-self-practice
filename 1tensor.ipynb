{
  "cells": [
    {
      "cell_type": "markdown",
      "metadata": {
        "id": "view-in-github",
        "colab_type": "text"
      },
      "source": [
        "<a href=\"https://colab.research.google.com/github/Hinna0818/DL-self-practice/blob/main/1tensor.ipynb\" target=\"_parent\"><img src=\"https://colab.research.google.com/assets/colab-badge.svg\" alt=\"Open In Colab\"/></a>"
      ]
    },
    {
      "cell_type": "code",
      "execution_count": 1,
      "metadata": {
        "colab": {
          "base_uri": "https://localhost:8080/"
        },
        "id": "9i8g9sgVu-9L",
        "outputId": "3c2ea798-11df-4038-e12a-cd917670a08f"
      },
      "outputs": [
        {
          "output_type": "stream",
          "name": "stdout",
          "text": [
            "tensor([[1, 2],\n",
            "        [3, 4]])\n"
          ]
        }
      ],
      "source": [
        "## create tensor data\n",
        "import numpy as np\n",
        "import torch\n",
        "x = [[1,2], [3,4]]\n",
        "data = torch.tensor(x)\n",
        "print(data)"
      ]
    },
    {
      "cell_type": "code",
      "source": [
        "## convert into ndarray\n",
        "x_np = np.array(x)\n",
        "x_tensor = torch.from_numpy(x_np)\n",
        "print(x_tensor)"
      ],
      "metadata": {
        "colab": {
          "base_uri": "https://localhost:8080/"
        },
        "id": "iPNEWcZTynNg",
        "outputId": "92c1dc07-af2d-4067-f3ff-6cf9ac0759d6"
      },
      "execution_count": 2,
      "outputs": [
        {
          "output_type": "stream",
          "name": "stdout",
          "text": [
            "tensor([[1, 2],\n",
            "        [3, 4]])\n"
          ]
        }
      ]
    },
    {
      "cell_type": "code",
      "source": [
        "## from another tensor\n",
        "x_ones = torch.ones_like(x_tensor)\n",
        "x_rand = torch.rand_like(x_tensor, dtype=torch.float)\n",
        "\n",
        "print(x_ones)\n",
        "print(x_rand)"
      ],
      "metadata": {
        "colab": {
          "base_uri": "https://localhost:8080/"
        },
        "id": "6havyMHAvvoV",
        "outputId": "24592499-9b9d-4e97-fd39-6cd5e31c155d"
      },
      "execution_count": 3,
      "outputs": [
        {
          "output_type": "stream",
          "name": "stdout",
          "text": [
            "tensor([[1, 1],\n",
            "        [1, 1]])\n",
            "tensor([[0.3205, 0.1997],\n",
            "        [0.9125, 0.8315]])\n"
          ]
        }
      ]
    },
    {
      "cell_type": "code",
      "source": [
        "## with random or constant values\n",
        "shape = (2,3,)\n",
        "rand_tensor = torch.rand(shape)\n",
        "zero_tensor = torch.zeros(shape)\n",
        "ones_tensor = torch.ones(shape)\n",
        "\n",
        "print(rand_tensor)\n",
        "print(zero_tensor)\n",
        "print(ones_tensor)"
      ],
      "metadata": {
        "colab": {
          "base_uri": "https://localhost:8080/"
        },
        "id": "XyRjZWf46VMf",
        "outputId": "ebfefe13-e64c-4ce5-e167-5cce37a54291"
      },
      "execution_count": 4,
      "outputs": [
        {
          "output_type": "stream",
          "name": "stdout",
          "text": [
            "tensor([[0.5625, 0.7445, 0.1246],\n",
            "        [0.7204, 0.3850, 0.8482]])\n",
            "tensor([[0., 0., 0.],\n",
            "        [0., 0., 0.]])\n",
            "tensor([[1., 1., 1.],\n",
            "        [1., 1., 1.]])\n"
          ]
        }
      ]
    },
    {
      "cell_type": "code",
      "source": [
        "t = torch.rand(3, 4)\n",
        "print(f\"Shape of tensor: {t.shape}\")\n",
        "print(f\"datatype of tensor: {t.dtype}\")\n",
        "print(f\"device of tensor: {t.device}\")"
      ],
      "metadata": {
        "colab": {
          "base_uri": "https://localhost:8080/"
        },
        "id": "rpKrxSshmawa",
        "outputId": "1c8a13ad-81a2-4fd2-a39b-fe3e841b1c73"
      },
      "execution_count": 6,
      "outputs": [
        {
          "output_type": "stream",
          "name": "stdout",
          "text": [
            "Shape of tensor: torch.Size([3, 4])\n",
            "datatype of tensor: torch.float32\n",
            "device of tensor: cpu\n"
          ]
        }
      ]
    },
    {
      "cell_type": "markdown",
      "source": [
        "operations on tensor"
      ],
      "metadata": {
        "id": "PJ-M4ybapY5a"
      }
    },
    {
      "cell_type": "code",
      "source": [
        "# We move our tensor to the current accelerator if available\n",
        "if torch.accelerator.is_available():\n",
        "    t = t.to(torch.accelerator.current_accelerator())\n",
        "\n",
        "print(f\"device of tensor: {t.device}\")"
      ],
      "metadata": {
        "colab": {
          "base_uri": "https://localhost:8080/"
        },
        "id": "gUmsi41OpaX7",
        "outputId": "6515c766-34b5-4d1d-ac17-8e4152528a4f"
      },
      "execution_count": 9,
      "outputs": [
        {
          "output_type": "stream",
          "name": "stdout",
          "text": [
            "device of tensor: cuda:0\n"
          ]
        }
      ]
    },
    {
      "cell_type": "code",
      "source": [
        "## splice\n",
        "tensor = torch.ones(4,4)\n",
        "print(f\"first row: {tensor[0]}\")\n",
        "print(f\"second column: {tensor[:, 1]}\")\n",
        "print(f\"last column: {tensor[..., -1]}\")\n",
        "\n",
        "tensor[:, 1] = 0\n",
        "print(f\"shifted tensor {tensor}\")"
      ],
      "metadata": {
        "colab": {
          "base_uri": "https://localhost:8080/"
        },
        "id": "J_LeQiBYpglW",
        "outputId": "068a3ae6-7245-449e-c8f8-5fdd43b7fa9c"
      },
      "execution_count": 11,
      "outputs": [
        {
          "output_type": "stream",
          "name": "stdout",
          "text": [
            "first row: tensor([1., 1., 1., 1.])\n",
            "second column: tensor([1., 1., 1., 1.])\n",
            "last column: tensor([1., 1., 1., 1.])\n",
            "shifted tensor tensor([[1., 0., 1., 1.],\n",
            "        [1., 0., 1., 1.],\n",
            "        [1., 0., 1., 1.],\n",
            "        [1., 0., 1., 1.]])\n"
          ]
        }
      ]
    },
    {
      "cell_type": "code",
      "source": [
        "## bind\n",
        "# rbind\n",
        "t1 = torch.cat([tensor, tensor], dim = 1)\n",
        "print(f\"binding by rows \\n {t1}\")\n",
        "\n",
        "t2 = torch.cat([tensor, tensor], dim = 0)\n",
        "print(f\"binding by columns \\n {t2}\")"
      ],
      "metadata": {
        "colab": {
          "base_uri": "https://localhost:8080/"
        },
        "id": "RbKeAz4ysL6i",
        "outputId": "fd82a188-fb27-4305-d352-7a9bd4410f99"
      },
      "execution_count": 16,
      "outputs": [
        {
          "output_type": "stream",
          "name": "stdout",
          "text": [
            "binding by rows \n",
            " tensor([[1., 0., 1., 1., 1., 0., 1., 1.],\n",
            "        [1., 0., 1., 1., 1., 0., 1., 1.],\n",
            "        [1., 0., 1., 1., 1., 0., 1., 1.],\n",
            "        [1., 0., 1., 1., 1., 0., 1., 1.]])\n",
            "binding by columns \n",
            " tensor([[1., 0., 1., 1.],\n",
            "        [1., 0., 1., 1.],\n",
            "        [1., 0., 1., 1.],\n",
            "        [1., 0., 1., 1.],\n",
            "        [1., 0., 1., 1.],\n",
            "        [1., 0., 1., 1.],\n",
            "        [1., 0., 1., 1.],\n",
            "        [1., 0., 1., 1.]])\n"
          ]
        }
      ]
    },
    {
      "cell_type": "code",
      "source": [
        "## matrix multiplication\n",
        "tensor = torch.rand(4, 3)\n",
        "y1 = tensor @ tensor.H\n",
        "y2 = tensor.matmul(tensor.H)\n",
        "print(y1)\n",
        "print(y2)"
      ],
      "metadata": {
        "colab": {
          "base_uri": "https://localhost:8080/"
        },
        "id": "gWUZoMVBtUHt",
        "outputId": "f2c8d44c-7ab7-4b77-a89a-72e9b3fd7ca4"
      },
      "execution_count": 17,
      "outputs": [
        {
          "output_type": "stream",
          "name": "stdout",
          "text": [
            "tensor([[0.8932, 1.2434, 0.4374, 0.9254],\n",
            "        [1.2434, 2.1117, 0.7394, 1.7405],\n",
            "        [0.4374, 0.7394, 0.2887, 0.5670],\n",
            "        [0.9254, 1.7405, 0.5670, 1.5527]])\n",
            "tensor([[0.8932, 1.2434, 0.4374, 0.9254],\n",
            "        [1.2434, 2.1117, 0.7394, 1.7405],\n",
            "        [0.4374, 0.7394, 0.2887, 0.5670],\n",
            "        [0.9254, 1.7405, 0.5670, 1.5527]])\n"
          ]
        }
      ]
    },
    {
      "cell_type": "code",
      "source": [
        "## element-wise product\n",
        "y3 = tensor * tensor\n",
        "y4 = tensor.mul(tensor)\n",
        "print(y3)\n",
        "print(y4)"
      ],
      "metadata": {
        "colab": {
          "base_uri": "https://localhost:8080/"
        },
        "id": "5bakyVk1tjZ_",
        "outputId": "d947f6ef-8215-4b9f-b529-c89576bc7cb1"
      },
      "execution_count": 18,
      "outputs": [
        {
          "output_type": "stream",
          "name": "stdout",
          "text": [
            "tensor([[0.2257, 0.5989, 0.0685],\n",
            "        [0.2562, 0.9480, 0.9075],\n",
            "        [0.0013, 0.1920, 0.0953],\n",
            "        [0.2551, 0.3002, 0.9974]])\n",
            "tensor([[0.2257, 0.5989, 0.0685],\n",
            "        [0.2562, 0.9480, 0.9075],\n",
            "        [0.0013, 0.1920, 0.0953],\n",
            "        [0.2551, 0.3002, 0.9974]])\n"
          ]
        }
      ]
    },
    {
      "cell_type": "code",
      "source": [
        "print(tensor.sum())\n",
        "print(tensor.sum(axis = 0))\n",
        "print(tensor.sum(axis = 1))\n",
        "\n",
        "## .item生成python原类型数据\n",
        "agg = tensor.sum()\n",
        "agg_item = agg.item()\n",
        "print(agg_item, type(agg_item))"
      ],
      "metadata": {
        "colab": {
          "base_uri": "https://localhost:8080/"
        },
        "id": "8wYjKYK4t2wk",
        "outputId": "908542bd-1156-48d3-8da7-b36753dd2629"
      },
      "execution_count": 24,
      "outputs": [
        {
          "output_type": "stream",
          "name": "stdout",
          "text": [
            "tensor(6.7786)\n",
            "tensor([1.5231, 2.7336, 2.5219])\n",
            "tensor([1.5108, 2.4325, 0.7837, 2.0517])\n",
            "6.778636932373047 <class 'float'>\n"
          ]
        }
      ]
    },
    {
      "cell_type": "markdown",
      "source": [
        "与numpy的交互"
      ],
      "metadata": {
        "id": "c-qW-zu0u4F5"
      }
    },
    {
      "cell_type": "code",
      "source": [
        "## torch到numpy\n",
        "t = torch.ones(3,4)\n",
        "n = t.numpy()\n",
        "print(f\"torch: \\n{t}\")\n",
        "print(f\"numpy: \\n{n}\")"
      ],
      "metadata": {
        "colab": {
          "base_uri": "https://localhost:8080/"
        },
        "id": "IrR7YZnGu6R5",
        "outputId": "59a845b9-964b-4424-ba0b-d1783028c8be"
      },
      "execution_count": 26,
      "outputs": [
        {
          "output_type": "stream",
          "name": "stdout",
          "text": [
            "torch: \n",
            "tensor([[1., 1., 1., 1.],\n",
            "        [1., 1., 1., 1.],\n",
            "        [1., 1., 1., 1.]])\n",
            "numpy: \n",
            "[[1. 1. 1. 1.]\n",
            " [1. 1. 1. 1.]\n",
            " [1. 1. 1. 1.]]\n"
          ]
        }
      ]
    },
    {
      "cell_type": "code",
      "source": [
        "## 二者在cpu共享内存，一个修改会影响另一个\n",
        "t.add_(2)\n",
        "print(t)\n",
        "print(n)"
      ],
      "metadata": {
        "colab": {
          "base_uri": "https://localhost:8080/"
        },
        "id": "RyoifXp7vNG8",
        "outputId": "5a540368-8f84-4e9a-e5d1-5192e641ee1e"
      },
      "execution_count": 27,
      "outputs": [
        {
          "output_type": "stream",
          "name": "stdout",
          "text": [
            "tensor([[3., 3., 3., 3.],\n",
            "        [3., 3., 3., 3.],\n",
            "        [3., 3., 3., 3.]])\n",
            "[[3. 3. 3. 3.]\n",
            " [3. 3. 3. 3.]\n",
            " [3. 3. 3. 3.]]\n"
          ]
        }
      ]
    },
    {
      "cell_type": "code",
      "source": [
        "## numpy到torch\n",
        "n = np.ones(4)\n",
        "t = torch.from_numpy(n)\n",
        "\n",
        "print(f\"numpy: \\n{n}\")\n",
        "print(f\"torch: \\n{t}\")"
      ],
      "metadata": {
        "colab": {
          "base_uri": "https://localhost:8080/"
        },
        "id": "1qaeJ-rgvfGM",
        "outputId": "91c3b6a1-2ba8-464c-f455-97cef4729051"
      },
      "execution_count": 29,
      "outputs": [
        {
          "output_type": "stream",
          "name": "stdout",
          "text": [
            "numpy: \n",
            "[1. 1. 1. 1.]\n",
            "torch: \n",
            "tensor([1., 1., 1., 1.], dtype=torch.float64)\n"
          ]
        }
      ]
    }
  ],
  "metadata": {
    "kernelspec": {
      "display_name": "Python 3",
      "name": "python3"
    },
    "language_info": {
      "codemirror_mode": {
        "name": "ipython",
        "version": 3
      },
      "file_extension": ".py",
      "mimetype": "text/x-python",
      "name": "python",
      "nbconvert_exporter": "python",
      "pygments_lexer": "ipython3",
      "version": "3.10.12"
    },
    "colab": {
      "provenance": [],
      "gpuType": "T4",
      "include_colab_link": true
    },
    "accelerator": "GPU"
  },
  "nbformat": 4,
  "nbformat_minor": 0
}