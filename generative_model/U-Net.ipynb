{
 "cells": [
  {
   "cell_type": "markdown",
   "id": "5e6a46f3",
   "metadata": {},
   "source": [
    "## U-Net"
   ]
  },
  {
   "cell_type": "code",
   "execution_count": 1,
   "id": "6a6c80d9",
   "metadata": {},
   "outputs": [],
   "source": [
    "import torch\n",
    "from torch import nn"
   ]
  },
  {
   "cell_type": "code",
   "execution_count": 2,
   "id": "f5ac6959",
   "metadata": {},
   "outputs": [],
   "source": [
    "## ConvBlock\n",
    "class ConvBlock(nn.Module):\n",
    "    def __init__(self, in_ch, out_ch):\n",
    "        super().__init__()\n",
    "        self.convs = nn.Sequential(\n",
    "            nn.Conv2d(in_ch, out_ch, 3, padding=1),  ## padding=1 keep input and output have same height and width\n",
    "            nn.BatchNorm2d(out_ch),\n",
    "            nn.ReLU(),\n",
    "            nn.Conv2d(out_ch, out_ch, 3, padding=1),\n",
    "            nn.BatchNorm2d(out_ch),\n",
    "            nn.ReLU()\n",
    "        )\n",
    "    \n",
    "    def forward(self, x):\n",
    "        return self.convs(x)"
   ]
  },
  {
   "cell_type": "code",
   "execution_count": null,
   "id": "467f9f33",
   "metadata": {},
   "outputs": [],
   "source": [
    "## U-Net\n",
    "class UNet(nn.Module):\n",
    "    def __init__(self, in_ch=1):\n",
    "        super().__init__()\n",
    "        self.down1=ConvBlock(in_ch, 64)\n",
    "        self.down2=ConvBlock(64, 128)\n",
    "        self.bot1=ConvBlock(128, 256)  ## deeper squeeze\n",
    "        self.up2=ConvBlock(128+256, 128)  ## concatenate with down2 in dim1\n",
    "        self.up1=ConvBlock(128+64, 64)  ## concatenate with down1 in dim1\n",
    "        self.out=nn.Conv2d(64, in_ch, 1)\n",
    "\n",
    "        self.maxpool=nn.MaxPool2d(2)  \n",
    "        self.upsample=nn.Upsample(scale_factor=2, mode=\"bilinear\")  ## twice as before\n",
    "    \n",
    "    def forward(self, x):\n",
    "        x1=self.down1(x)\n",
    "        x=self.maxpool(x1)\n",
    "        x2=self.down2(x)\n",
    "        x=self.maxpool(x2)\n",
    "        x=self.bot1(x)\n",
    "\n",
    "        x=self.upsample(x)\n",
    "        x=torch.cat([x, x2], dim=1)\n",
    "        x=self.up2(x)\n",
    "        x=self.upsample(x)\n",
    "        x=torch.cat([x, x1], dim=1)\n",
    "        x=self.up1(x)\n",
    "        x=self.out(x)\n",
    "\n",
    "        return x"
   ]
  },
  {
   "cell_type": "code",
   "execution_count": 4,
   "id": "fe05fd74",
   "metadata": {},
   "outputs": [
    {
     "name": "stdout",
     "output_type": "stream",
     "text": [
      "torch.Size([10, 1, 28, 28])\n"
     ]
    }
   ],
   "source": [
    "## using random data for demo\n",
    "model=UNet()\n",
    "x=torch.randn(10, 1, 28, 28)\n",
    "y=model(x)\n",
    "print(y.shape)"
   ]
  },
  {
   "cell_type": "markdown",
   "id": "f87a5c93",
   "metadata": {},
   "source": [
    "## 正弦位置编码"
   ]
  },
  {
   "cell_type": "code",
   "execution_count": 5,
   "id": "71acd73a",
   "metadata": {},
   "outputs": [],
   "source": [
    "def _pos_encoding(t, output_dim, device='cpu'):\n",
    "    D = output_dim\n",
    "    v = torch.zeros(D, device=device)\n",
    "    i = torch.arange(0, D, device=device)\n",
    "    div_term = 10000 * (i / D)\n",
    "\n",
    "    v[0::2] = torch.sin(t / div_term[0::2])\n",
    "    v[1::2] = torch.cos(t / div_term[1::2])\n",
    "    return v"
   ]
  },
  {
   "cell_type": "code",
   "execution_count": 6,
   "id": "c584248f",
   "metadata": {},
   "outputs": [
    {
     "name": "stdout",
     "output_type": "stream",
     "text": [
      "torch.Size([16])\n"
     ]
    }
   ],
   "source": [
    "v = _pos_encoding(1, 16) # input is 1, output dim is 16\n",
    "print(v.shape)"
   ]
  },
  {
   "cell_type": "code",
   "execution_count": 7,
   "id": "4a73d11f",
   "metadata": {},
   "outputs": [],
   "source": [
    "## batch position encoding\n",
    "def pos_encoding(ts, output_dim, device='cpu'):\n",
    "    batch_size = len(ts)\n",
    "    v = torch.zeros(batch_size, output_dim, device=device)\n",
    "    for i in range(batch_size):\n",
    "        v[i] = _pos_encoding(ts[i], output_dim, device)\n",
    "    return v"
   ]
  },
  {
   "cell_type": "code",
   "execution_count": 8,
   "id": "5b0be2c9",
   "metadata": {},
   "outputs": [
    {
     "name": "stdout",
     "output_type": "stream",
     "text": [
      "torch.Size([3, 16])\n"
     ]
    }
   ],
   "source": [
    "v = pos_encoding(torch.tensor([1,2,3]), 16)\n",
    "print(v.shape)"
   ]
  },
  {
   "cell_type": "code",
   "execution_count": 9,
   "id": "a03c0bda",
   "metadata": {},
   "outputs": [],
   "source": [
    "## add position information into the ConvBlock\n",
    "class ConvBlock(nn.Module):\n",
    "    def __init__(self, in_ch, out_ch, time_embed_dim):\n",
    "        super().__init__()\n",
    "        self.convs = nn.Sequential(\n",
    "            nn.Conv2d(in_ch, out_ch, 3, padding=1),  ## padding=1 keep input and output have same height and width\n",
    "            nn.BatchNorm2d(out_ch),\n",
    "            nn.ReLU(),\n",
    "            nn.Conv2d(out_ch, out_ch, 3, padding=1),\n",
    "            nn.BatchNorm2d(out_ch),\n",
    "            nn.ReLU()\n",
    "        )\n",
    "\n",
    "        self.mlp = nn.Sequential(\n",
    "            nn.Linear(time_embed_dim, in_ch),\n",
    "            nn.ReLU(),\n",
    "            nn.Linear(in_ch, in_ch)\n",
    "        )\n",
    "\n",
    "    def forward(self, x, v):\n",
    "        N, C, _, _ = x.shape\n",
    "        v = self.mlp(v)\n",
    "        v = v.view(N, C, 1, 1) # reshape (N,C) into (N,C,1,1)\n",
    "        y = self.convs(x + v)\n",
    "        return y"
   ]
  },
  {
   "cell_type": "code",
   "execution_count": null,
   "id": "4da6065c",
   "metadata": {},
   "outputs": [],
   "source": [
    "class UNet(nn.Module):\n",
    "    def __init__(self, in_ch = 1, time_embed_dim = 100):\n",
    "        super().__init__()\n",
    "        self.time_embed_dim = time_embed_dim\n",
    "\n",
    "        self.down1=ConvBlock(in_ch, 64, time_embed_dim)\n",
    "        self.down2=ConvBlock(64, 128, time_embed_dim)\n",
    "        self.bot1=ConvBlock(128, 256, time_embed_dim)  ## deeper squeeze\n",
    "        self.up2=ConvBlock(128+256, 128, time_embed_dim)  ## concatenate with down2 in dim1\n",
    "        self.up1=ConvBlock(128+64, 64, time_embed_dim)  ## concatenate with down1 in dim1\n",
    "        self.out=nn.Conv2d(64, in_ch, 1)\n",
    "\n",
    "        self.maxpool=nn.MaxPool2d(2)  \n",
    "        self.upsample=nn.Upsample(scale_factor=2, mode=\"bilinear\")  ## twice as before\n",
    "    \n",
    "    def forward(self, x, timesteps):\n",
    "        ## sin position encoding\n",
    "        v = pos_encoding(timesteps, self.time_embed_dim, x.device)\n",
    "        x1=self.down1(x, v)\n",
    "        x=self.maxpool(x1)\n",
    "        x2=self.down2(x, v)\n",
    "        x=self.maxpool(x2)\n",
    "        x=self.bot1(x, v)\n",
    "\n",
    "        x=self.upsample(x)\n",
    "        x=torch.cat([x, x2], dim=1)\n",
    "        x=self.up2(x)\n",
    "        x=self.upsample(x)\n",
    "        x=torch.cat([x, x1], dim=1)\n",
    "        x=self.up1(x)\n",
    "        x=self.out(x)\n",
    "    \n",
    "        return x"
   ]
  }
 ],
 "metadata": {
  "kernelspec": {
   "display_name": "dl",
   "language": "python",
   "name": "python3"
  },
  "language_info": {
   "codemirror_mode": {
    "name": "ipython",
    "version": 3
   },
   "file_extension": ".py",
   "mimetype": "text/x-python",
   "name": "python",
   "nbconvert_exporter": "python",
   "pygments_lexer": "ipython3",
   "version": "3.12.11"
  }
 },
 "nbformat": 4,
 "nbformat_minor": 5
}
