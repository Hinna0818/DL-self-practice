{
 "cells": [
  {
   "cell_type": "markdown",
   "id": "5e6a46f3",
   "metadata": {},
   "source": [
    "## U-Net"
   ]
  },
  {
   "cell_type": "code",
   "execution_count": 1,
   "id": "6a6c80d9",
   "metadata": {},
   "outputs": [],
   "source": [
    "import torch\n",
    "from torch import nn"
   ]
  },
  {
   "cell_type": "code",
   "execution_count": null,
   "id": "f5ac6959",
   "metadata": {},
   "outputs": [],
   "source": [
    "## ConvBlock\n",
    "class ConvBlock(nn.Module):\n",
    "    def __init__(self, in_ch, out_ch):\n",
    "        super().__init__()\n",
    "        self.convs = nn.Sequential(\n",
    "            nn.Conv2d(in_ch, out_ch, 3, padding=1),  ## padding=1 keep input and output have same height and width\n",
    "            nn.BatchNorm2d(out_ch),\n",
    "            nn.ReLU(),\n",
    "            nn.Conv2d(out_ch, out_ch, 3, padding=1),\n",
    "            nn.BatchNorm2d(out_ch),\n",
    "            nn.ReLU()\n",
    "        )\n",
    "    \n",
    "    def forward(self, x):\n",
    "        return self.convs(x)"
   ]
  },
  {
   "cell_type": "code",
   "execution_count": null,
   "id": "467f9f33",
   "metadata": {},
   "outputs": [],
   "source": [
    "## U-Net\n",
    "class UNet(nn.Module):\n",
    "    def __init__(self, in_ch=1):\n",
    "        super().__init__()\n",
    "        self.down1=ConvBlock(in_ch, 64)\n",
    "        self.down2=ConvBlock(64, 128)\n",
    "        self.bot1=ConvBlock(128, 256)  ## deeper squeeze\n",
    "        self.up2=ConvBlock(128+256, 128)  ## concatenate with down2 in dim1\n",
    "        self.up1=ConvBlock(128+64, 64)  ## concatenate with down1 in dim1\n",
    "        self.out=nn.Conv2d(64, in_ch, 1)\n",
    "\n",
    "        self.maxpool=nn.MaxPool2d(2)  \n",
    "        self.upsample=nn.Upsample(scale_factor=2, mode=\"bilinear\")  ## twice as before\n",
    "    \n",
    "    def forward(self, x):\n",
    "        x1=self.down1(x)\n",
    "        x=self.maxpool(x1)\n",
    "        x2=self.down2(x)\n",
    "        x=self.maxpool(x2)\n",
    "        x=self.bot1(x)\n",
    "\n",
    "        x=self.upsample(x)\n",
    "        x=torch.cat([x, x2], dim=1)\n",
    "        x=self.up2(x)\n",
    "        x=self.upsample(x)\n",
    "        x=torch.cat([x, x1], dim=1)\n",
    "        x=self.up1(x)\n",
    "        x=self.out(x)\n",
    "\n",
    "        return x"
   ]
  },
  {
   "cell_type": "code",
   "execution_count": 6,
   "id": "fe05fd74",
   "metadata": {},
   "outputs": [
    {
     "name": "stdout",
     "output_type": "stream",
     "text": [
      "torch.Size([10, 1, 28, 28])\n"
     ]
    }
   ],
   "source": [
    "## using random data for demo\n",
    "model=UNet()\n",
    "x=torch.randn(10, 1, 28, 28)\n",
    "y=model(x)\n",
    "print(y.shape)"
   ]
  }
 ],
 "metadata": {
  "kernelspec": {
   "display_name": "pytorch",
   "language": "python",
   "name": "python3"
  },
  "language_info": {
   "codemirror_mode": {
    "name": "ipython",
    "version": 3
   },
   "file_extension": ".py",
   "mimetype": "text/x-python",
   "name": "python",
   "nbconvert_exporter": "python",
   "pygments_lexer": "ipython3",
   "version": "3.9.21"
  }
 },
 "nbformat": 4,
 "nbformat_minor": 5
}
